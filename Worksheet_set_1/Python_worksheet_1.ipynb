{
 "cells": [
  {
   "cell_type": "code",
   "execution_count": 1,
   "id": "ecc06c58",
   "metadata": {},
   "outputs": [],
   "source": [
    "#Ques 11= Write a python program to find the factorial of a number"
   ]
  },
  {
   "cell_type": "code",
   "execution_count": 2,
   "id": "c45661d4",
   "metadata": {},
   "outputs": [
    {
     "name": "stdout",
     "output_type": "stream",
     "text": [
      "enter a number5\n",
      "factorail of 5 = 120\n"
     ]
    }
   ],
   "source": [
    "num=int(input(\"enter a number\"))\n",
    "f=1\n",
    "for i in range(1,num+1):\n",
    "    f=f*i\n",
    "print ('factorail of', num, '=',f)"
   ]
  },
  {
   "cell_type": "code",
   "execution_count": 3,
   "id": "2473702c",
   "metadata": {},
   "outputs": [],
   "source": [
    "#Ques 12 = Write a python program to find whether a number is prime or composite."
   ]
  },
  {
   "cell_type": "code",
   "execution_count": 4,
   "id": "6472ba2e",
   "metadata": {},
   "outputs": [
    {
     "name": "stdout",
     "output_type": "stream",
     "text": [
      "Enter any number:39\n",
      "39 is not a prime number but it is a composite number\n"
     ]
    }
   ],
   "source": [
    "num=int(input(\"Enter any number:\"))\n",
    "if num>1:\n",
    "    for i in range(2, num):\n",
    "        if (num % i) == 0:\n",
    "            print(num, \"is not a prime number but it is a composite number\")\n",
    "            break\n",
    "    else:\n",
    "        print(num, \"is a prime number\")"
   ]
  },
  {
   "cell_type": "code",
   "execution_count": 5,
   "id": "2172ed50",
   "metadata": {},
   "outputs": [
    {
     "name": "stdout",
     "output_type": "stream",
     "text": [
      "Enter any number:2\n",
      "2 is a prime number\n"
     ]
    }
   ],
   "source": [
    "num=int(input(\"Enter any number:\"))\n",
    "if num>1:\n",
    "    for i in range(2, num):\n",
    "        if (num % i) == 0:\n",
    "            print(num, \"is not a prime number but it is a composite number\")\n",
    "            break\n",
    "    else:\n",
    "        print(num, \"is a prime number\")"
   ]
  },
  {
   "cell_type": "code",
   "execution_count": 6,
   "id": "bccb24f9",
   "metadata": {},
   "outputs": [],
   "source": [
    "#Ques 13 = Write a python program to check whether a given string is a palidrome or not "
   ]
  },
  {
   "cell_type": "code",
   "execution_count": 7,
   "id": "a2b23810",
   "metadata": {},
   "outputs": [
    {
     "name": "stdout",
     "output_type": "stream",
     "text": [
      "Function\n",
      "It is not a Palindrome\n"
     ]
    }
   ],
   "source": [
    "string = input().lower()\n",
    "if string==string[::-1]:\n",
    "    print(\"It is a Palindrome\")\n",
    "else:\n",
    "    print(\"It is not a Palindrome\")"
   ]
  },
  {
   "cell_type": "code",
   "execution_count": 8,
   "id": "269b3265",
   "metadata": {},
   "outputs": [],
   "source": [
    "#Ques 14 = Write a python program to get the third side of a right-angled triangle from two given sides."
   ]
  },
  {
   "cell_type": "code",
   "execution_count": 9,
   "id": "78ff075e",
   "metadata": {},
   "outputs": [
    {
     "name": "stdout",
     "output_type": "stream",
     "text": [
      "Enter base value:10\n",
      "Enter height value:5\n",
      "Enter angle value:90\n",
      "Hypotenuse =  11.180339887498949\n"
     ]
    }
   ],
   "source": [
    "import math\n",
    "a=float(input(\"Enter base value:\"))\n",
    "b=float(input(\"Enter height value:\"))\n",
    "x=float(input(\"Enter angle value:\"))\n",
    "\n",
    "c=math.sqrt(a**2+b**2)\n",
    "\n",
    "print(\"Hypotenuse = \", c)"
   ]
  },
  {
   "cell_type": "code",
   "execution_count": 10,
   "id": "52c4f7da",
   "metadata": {},
   "outputs": [],
   "source": [
    "#Ques 15 = Write a python program to print the frequency of each of the characters present in a given string"
   ]
  },
  {
   "cell_type": "code",
   "execution_count": 11,
   "id": "2afc4841",
   "metadata": {},
   "outputs": [
    {
     "name": "stdout",
     "output_type": "stream",
     "text": [
      "Enter the string computer \n",
      "Characters and their frequency\n",
      "c=1\n",
      "o=1\n",
      "m=1\n",
      "p=1\n",
      "u=1\n",
      "t=1\n",
      "e=1\n",
      "r=1\n"
     ]
    }
   ],
   "source": [
    "string=input(\"Enter the string\")\n",
    "freq=[None]*len(string)\n",
    "\n",
    "for i in range(0,len(string)):\n",
    "    freq[i]=1\n",
    "    for j in range(i+1,len(string)):\n",
    "        if(string[i]==string[j]):\n",
    "            freq[i]=freq[i]+1\n",
    "            \n",
    "string=string[:j]+'0'+string[j+1:];\n",
    "\n",
    "print(\"Characters and their frequency\");\n",
    "for i in range(0,len(freq)):\n",
    "    if(string[i]!=' ' and string[i]!='0'):\n",
    "        print(string[i]+\"=\"+str(freq[i]))"
   ]
  },
  {
   "cell_type": "code",
   "execution_count": null,
   "id": "224fe44d",
   "metadata": {},
   "outputs": [],
   "source": []
  },
  {
   "cell_type": "code",
   "execution_count": null,
   "id": "6c815a32",
   "metadata": {},
   "outputs": [],
   "source": []
  },
  {
   "cell_type": "code",
   "execution_count": null,
   "id": "de7b2b63",
   "metadata": {},
   "outputs": [],
   "source": []
  },
  {
   "cell_type": "code",
   "execution_count": null,
   "id": "ede698a6",
   "metadata": {},
   "outputs": [],
   "source": []
  },
  {
   "cell_type": "code",
   "execution_count": null,
   "id": "a817b230",
   "metadata": {},
   "outputs": [],
   "source": []
  }
 ],
 "metadata": {
  "kernelspec": {
   "display_name": "Python 3 (ipykernel)",
   "language": "python",
   "name": "python3"
  },
  "language_info": {
   "codemirror_mode": {
    "name": "ipython",
    "version": 3
   },
   "file_extension": ".py",
   "mimetype": "text/x-python",
   "name": "python",
   "nbconvert_exporter": "python",
   "pygments_lexer": "ipython3",
   "version": "3.9.7"
  }
 },
 "nbformat": 4,
 "nbformat_minor": 5
}
